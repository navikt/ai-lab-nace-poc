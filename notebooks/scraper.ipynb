{
 "cells": [
  {
   "cell_type": "code",
   "execution_count": 143,
   "metadata": {
    "colab": {},
    "colab_type": "code",
    "id": "AIOJoPEqvPfP"
   },
   "outputs": [],
   "source": [
    "import requests \n",
    "from requests import get\n",
    "from bs4 import BeautifulSoup\n",
    "import pandas as pd\n",
    "import numpy as np\n",
    "import matplotlib.pyplot as plt\n",
    "import seaborn as sns\n",
    "import os\n",
    "from multiprocessing import Pool"
   ]
  },
  {
   "cell_type": "markdown",
   "metadata": {},
   "source": [
    "## Henter url fra foretaksregisteret"
   ]
  },
  {
   "cell_type": "code",
   "execution_count": 144,
   "metadata": {},
   "outputs": [],
   "source": [
    "url = \"https://hotell.difi.no/api/csv/brreg/enhetsregisteret?\""
   ]
  },
  {
   "cell_type": "code",
   "execution_count": 145,
   "metadata": {},
   "outputs": [],
   "source": [
    "df = pd.read_csv(url, sep=';', encoding='utf-8')\n",
    "df = df[df.url.notna()]"
   ]
  },
  {
   "cell_type": "code",
   "execution_count": 146,
   "metadata": {},
   "outputs": [],
   "source": [
    "urls = df['url'].unique().tolist()"
   ]
  },
  {
   "cell_type": "code",
   "execution_count": 147,
   "metadata": {},
   "outputs": [
    {
     "data": {
      "text/plain": [
       "['www.mayasart.net',\n",
       " 'www.ugandasbarn.org',\n",
       " 'www.arnestad.org',\n",
       " 'mikkelcappelensmith.com',\n",
       " 'www.plussark.no',\n",
       " 'www.pluss2.no',\n",
       " 'palmera-i-bergen.no',\n",
       " 'www.ebe-data.com',\n",
       " 'www.soldier.no',\n",
       " 'artofdesign.ltevensen.com',\n",
       " 'www.artific.no',\n",
       " 'www.01kommunikasjon.no',\n",
       " 'www.travsport.no/Organisasjon/ForbundLag/Hedmark-Travforbund/Travlag/Grue-Travklubb/',\n",
       " 'www.07.no',\n",
       " 'www.getpersonal.no',\n",
       " 'www.08aerosystem.se',\n",
       " 'www.12x.no',\n",
       " 'www.1aid.no']"
      ]
     },
     "execution_count": 147,
     "metadata": {},
     "output_type": "execute_result"
    }
   ],
   "source": [
    "urls"
   ]
  },
  {
   "cell_type": "code",
   "execution_count": 148,
   "metadata": {},
   "outputs": [],
   "source": [
    "def getContent(url):\n",
    "    response = requests.get(f'http://{url}')\n",
    "    if response.ok:\n",
    "        return response.text\n",
    "    response = requests.get(f'https://{url}')\n",
    "    if response.ok:\n",
    "        return response.text"
   ]
  },
  {
   "cell_type": "code",
   "execution_count": 149,
   "metadata": {},
   "outputs": [],
   "source": [
    "from bs4 import BeautifulSoup\n",
    "content = BeautifulSoup(getContent(urls[0]), 'html.parser')\n",
    "body = content.find('body')\n",
    "content = body.findChildren()"
   ]
  },
  {
   "cell_type": "code",
   "execution_count": 150,
   "metadata": {},
   "outputs": [],
   "source": [
    "content_string = ''.join(str(content))"
   ]
  },
  {
   "cell_type": "code",
   "execution_count": 151,
   "metadata": {},
   "outputs": [],
   "source": [
    "from html.parser import HTMLParser\n",
    "\n",
    "class MLStripper(HTMLParser):\n",
    "    def __init__(self):\n",
    "        self.reset()\n",
    "        self.strict = False\n",
    "        self.convert_charrefs= True\n",
    "        self.fed = []\n",
    "    def handle_data(self, d):\n",
    "        self.fed.append(d)\n",
    "    def get_data(self):\n",
    "        return ''.join(self.fed)\n",
    "\n",
    "def strip_tags(html):\n",
    "    s = MLStripper()\n",
    "    s.feed(html)\n",
    "    return s.get_data()"
   ]
  },
  {
   "cell_type": "code",
   "execution_count": 152,
   "metadata": {},
   "outputs": [],
   "source": [
    "import re\n",
    "content_string = strip_tags(content_string)\n",
    "\n",
    "content_string = re.sub(r'[^\\x00-\\x7F]+',' ', content_string)\n",
    "tags = ['\\n','\\t','\\r','\\xa0','word-wrap:break-word;', '.wordwrapfix','{','}']\n",
    "for tag in tags:\n",
    "    content_string = content_string.replace(tag, ' ')\n",
    "    \n",
    "#content_string = re.sub('  +', '', content_string)"
   ]
  },
  {
   "cell_type": "code",
   "execution_count": 153,
   "metadata": {},
   "outputs": [],
   "source": [
    "content_string = content_string.strip()"
   ]
  },
  {
   "cell_type": "code",
   "execution_count": 155,
   "metadata": {},
   "outputs": [
    {
     "data": {
      "text/plain": [
       "'[          Meny          Mayasart     Akryl maleri    ttebladroser   Kurs   Info kurs   Messer og utstilling   Kontakt    Om meg:   Gjestebok   Link     Nettbutikk     Adventskalendar   Strikkegnomer   Hardangersaumkort    ttebladroser   Foto p  lerret   I am   I exsist   Original Maleri   Bunadskjorte posar                                 Mayasart                         Kunst og design                                Skapargleda i fargar p  lerret, ogs  med syn l og stikkepinnar. Trykk av  ttbl'"
      ]
     },
     "execution_count": 155,
     "metadata": {},
     "output_type": "execute_result"
    }
   ],
   "source": [
    "content_string[:500]"
   ]
  },
  {
   "cell_type": "code",
   "execution_count": null,
   "metadata": {},
   "outputs": [],
   "source": []
  }
 ],
 "metadata": {
  "colab": {
   "name": "WebScrNaceV2.ipynb",
   "provenance": [],
   "version": "0.3.2"
  },
  "kernelspec": {
   "display_name": "Python 3",
   "language": "python",
   "name": "python3"
  },
  "language_info": {
   "codemirror_mode": {
    "name": "ipython",
    "version": 3
   },
   "file_extension": ".py",
   "mimetype": "text/x-python",
   "name": "python",
   "nbconvert_exporter": "python",
   "pygments_lexer": "ipython3",
   "version": "3.7.2"
  }
 },
 "nbformat": 4,
 "nbformat_minor": 1
}
